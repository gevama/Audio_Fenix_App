{
  "nbformat": 4,
  "nbformat_minor": 0,
  "metadata": {
    "colab": {
      "name": "ProgramaTos",
      "provenance": [],
      "collapsed_sections": [],
      "toc_visible": true
    },
    "kernelspec": {
      "name": "python3",
      "display_name": "Python 3"
    },
    "accelerator": "GPU"
  },
  "cells": [
    {
      "cell_type": "markdown",
      "metadata": {
        "id": "IJRVo6GG6BCN",
        "colab_type": "text"
      },
      "source": [
        "# Parte de definición y preparación de entorno\n",
        "### Solo se ejecuta una vez al inicio\n",
        "\n"
      ]
    },
    {
      "cell_type": "code",
      "metadata": {
        "id": "t0v_xEEqOEST",
        "colab_type": "code",
        "outputId": "1b3963f2-f56e-44c5-e842-f7dab829d63c",
        "colab": {
          "base_uri": "https://localhost:8080/",
          "height": 125
        }
      },
      "source": [
        "from google.colab import drive\n",
        "drive.mount('/content/drive', force_remount=True)"
      ],
      "execution_count": 1,
      "outputs": [
        {
          "output_type": "stream",
          "text": [
            "Go to this URL in a browser: https://accounts.google.com/o/oauth2/auth?client_id=947318989803-6bn6qk8qdgf4n4g3pfee6491hc0brc4i.apps.googleusercontent.com&redirect_uri=urn%3aietf%3awg%3aoauth%3a2.0%3aoob&response_type=code&scope=email%20https%3a%2f%2fwww.googleapis.com%2fauth%2fdocs.test%20https%3a%2f%2fwww.googleapis.com%2fauth%2fdrive%20https%3a%2f%2fwww.googleapis.com%2fauth%2fdrive.photos.readonly%20https%3a%2f%2fwww.googleapis.com%2fauth%2fpeopleapi.readonly\n",
            "\n",
            "Enter your authorization code:\n",
            "··········\n",
            "Mounted at /content/drive\n"
          ],
          "name": "stdout"
        }
      ]
    },
    {
      "cell_type": "code",
      "metadata": {
        "id": "bWKDWEg_ptzV",
        "colab_type": "code",
        "colab": {}
      },
      "source": [
        "root_path = '/content/drive/My Drive/ModeloKeras/Test/'"
      ],
      "execution_count": 0,
      "outputs": []
    },
    {
      "cell_type": "code",
      "metadata": {
        "id": "iTRHkUlzpzu7",
        "colab_type": "code",
        "colab": {}
      },
      "source": [
        "import os\n",
        "os.chdir(root_path)"
      ],
      "execution_count": 0,
      "outputs": []
    },
    {
      "cell_type": "code",
      "metadata": {
        "id": "FRbR7ufXqbXW",
        "colab_type": "code",
        "colab": {}
      },
      "source": [
        "!pip install -q pydub"
      ],
      "execution_count": 0,
      "outputs": []
    },
    {
      "cell_type": "code",
      "metadata": {
        "id": "cmKaWJNDp4fE",
        "colab_type": "code",
        "colab": {}
      },
      "source": [
        "# Load python libraries\n",
        "%matplotlib inline\n",
        "import numpy as np\n",
        "import pandas as pd\n",
        "import random\n",
        "from scipy.io import wavfile\n",
        "from sklearn.preprocessing import scale\n",
        "import librosa.display\n",
        "import librosa\n",
        "import matplotlib.pyplot as plt\n",
        "import os\n",
        "import concurrent\n",
        "from tqdm import tqdm\n",
        "# Load audio libraries\n",
        "from pydub import AudioSegment\n",
        "import math\n",
        "# Load tensorflow libraries\n",
        "from tensorflow.keras.models import model_from_json\n",
        "from tensorflow.keras.applications.densenet import DenseNet201, preprocess_input\n",
        "from tensorflow.keras.preprocessing import image\n",
        "from tensorflow.keras.models import Sequential, Model\n",
        "from tensorflow.keras.layers import Dense, Dropout, Flatten, Input\n",
        "from tensorflow.keras.optimizers import SGD\n",
        "from tensorflow.keras import metrics\n",
        "from tensorflow.keras.callbacks import ModelCheckpoint, TensorBoard\n",
        "from time import time\n",
        "import numpy as np\n",
        "import json"
      ],
      "execution_count": 0,
      "outputs": []
    },
    {
      "cell_type": "code",
      "metadata": {
        "id": "xSiqe1CF3gm-",
        "colab_type": "code",
        "colab": {}
      },
      "source": [
        "# Directories\n",
        "audio_dir='/content/drive/My Drive/ModeloKeras/Test/audio'\n",
        "chunk_dir ='/content/drive/My Drive/ModeloKeras/Test/chunk/'\n",
        "testing_dir = '/content/drive/My Drive/ModeloKeras/Test/melspectrograms/'"
      ],
      "execution_count": 0,
      "outputs": []
    },
    {
      "cell_type": "code",
      "metadata": {
        "id": "tnrlcnK4tVCP",
        "colab_type": "code",
        "colab": {}
      },
      "source": [
        "# Function definition to save melspectrograms in the defined directory\n",
        "def save_melspectrogram(directory_path, file_name, sampling_rate=44100):\n",
        "    \"\"\" Will save spectogram into current directory\"\"\"\n",
        "    \n",
        "    path_to_file = os.path.join(directory_path, file_name)\n",
        "    data, sr = librosa.load(path_to_file, sr=sampling_rate, mono=True)\n",
        "    data = scale(data)\n",
        "\n",
        "    melspec = librosa.feature.melspectrogram(y=data, sr=sr, n_mels=128)\n",
        "    # Convert to log scale (dB) using the peak power (max) as reference\n",
        "        # per suggestion from Librbosa: https://librosa.github.io/librosa/generated/librosa.feature.melspectrogram.html\n",
        "    log_melspec = librosa.power_to_db(melspec, ref=np.max)  \n",
        "    librosa.display.specshow(log_melspec, sr=sr)\n",
        "    \n",
        "    # create saving directory\n",
        "    directory = '/content/drive/My Drive/ModeloKeras/Test/melspectrograms/'\n",
        "    os.makedirs(directory, exist_ok=True)\n",
        "    \n",
        "    plt.savefig(directory + '/' + file_name.strip('.wav') + '.png')"
      ],
      "execution_count": 0,
      "outputs": []
    },
    {
      "cell_type": "code",
      "metadata": {
        "id": "Z2pIVCOI5LP5",
        "colab_type": "code",
        "colab": {}
      },
      "source": [
        "# Function definition to compute the melspectrograms for each audio chunk\n",
        "def compute_and_save_mel_spectogram(data):\n",
        "    directory_path, filename = data\n",
        "    save_melspectrogram(directory_path, filename, sampling_rate=44100)\n",
        "    return filename"
      ],
      "execution_count": 0,
      "outputs": []
    },
    {
      "cell_type": "code",
      "metadata": {
        "id": "EKhzy1JWDuxi",
        "colab_type": "code",
        "colab": {}
      },
      "source": [
        "# Function definition to obtain the top3-predictions array for each audio chunk\n",
        "def get_top_k_predictions(preds, label_map, k=5, print_flag=False):\n",
        "    sorted_array = np.argsort(preds)[::-1]\n",
        "    top_k = sorted_array[:k]\n",
        "    label_map_flip = dict((v,k) for k,v in label_map.items())\n",
        "    \n",
        "    y_pred = []\n",
        "    for label_index in top_k:\n",
        "        if print_flag:\n",
        "            print(\"{} ({})\".format(label_map_flip[label_index], preds[label_index]))\n",
        "        y_pred.append(label_map_flip[label_index])\n",
        "        \n",
        "    return y_pred"
      ],
      "execution_count": 0,
      "outputs": []
    },
    {
      "cell_type": "code",
      "metadata": {
        "id": "JqHpLX-H7mqA",
        "colab_type": "code",
        "outputId": "2a3dbfa9-8288-4dd0-e57d-d8ed1c15f1ad",
        "colab": {
          "base_uri": "https://localhost:8080/",
          "height": 34
        }
      },
      "source": [
        "# load json and create model\n",
        "json_file = open('/content/drive/My Drive/ModeloKeras/DenseNet201V5_model_21_frozen_layers.json', 'r')\n",
        "loaded_model_json = json_file.read()\n",
        "json_file.close()\n",
        "loaded_model = model_from_json(loaded_model_json)\n",
        "# load weights into new model\n",
        "loaded_model.load_weights(\"/content/drive/My Drive/ModeloKeras/MixV1_New_Densenet201_stft_weights.best.hdf5\")\n",
        "print(\"Loaded model from disk\")"
      ],
      "execution_count": 10,
      "outputs": [
        {
          "output_type": "stream",
          "text": [
            "Loaded model from disk\n"
          ],
          "name": "stdout"
        }
      ]
    },
    {
      "cell_type": "code",
      "metadata": {
        "id": "DUDRCh3bCqhU",
        "colab_type": "code",
        "colab": {}
      },
      "source": [
        "label_map= {'Applause': 0, 'Bark': 1, 'Burping_or_eructation': 2, 'Computer_keyboard': 3, 'Cough': 4, 'Drawer_open_or_close': 5, 'Fart': 6, 'Finger_snapping': 7, 'Knock': 8, 'Laughter': 9, 'Meow': 10, 'Silence': 11, 'Telephone': 12, 'breathing': 13, 'brushing_teeth': 14, 'can_opening': 15, 'crying_baby': 16, 'drinking_sipping': 17, 'footsteps': 18, 'glass_breaking': 19, 'pouring_water': 20, 'sneezing': 21, 'snoring': 22, 'toilet_flush': 23}"
      ],
      "execution_count": 0,
      "outputs": []
    },
    {
      "cell_type": "markdown",
      "metadata": {
        "id": "DbCWxxWs6JZp",
        "colab_type": "text"
      },
      "source": [
        "# Parte de ejecución \n",
        "### Debe ejecutarse cada vez que reconozca que hay un nuevo archivo de audio"
      ]
    },
    {
      "cell_type": "code",
      "metadata": {
        "id": "ISP4dA7pLEKD",
        "colab_type": "code",
        "colab": {}
      },
      "source": [
        "# Obtain the name of the recorded audio\n",
        "audio = os.listdir(audio_dir + '/')\n",
        "audio_name = ' '.join(map(str, audio))"
      ],
      "execution_count": 0,
      "outputs": []
    },
    {
      "cell_type": "code",
      "metadata": {
        "id": "vIJ5Me3FrCQc",
        "colab_type": "code",
        "colab": {}
      },
      "source": [
        "# Obtain the duration of the recorded audio\n",
        "os.chdir(audio_dir)\n",
        "audio = AudioSegment.from_file(audio_name)\n",
        "duracion = round(audio.duration_seconds,0)"
      ],
      "execution_count": 0,
      "outputs": []
    },
    {
      "cell_type": "code",
      "metadata": {
        "id": "g0L6MOs7vuhU",
        "colab_type": "code",
        "colab": {}
      },
      "source": [
        "# Obtain the recording datetime of the audio\n",
        "import time\n",
        "import datetime as dt\n",
        "creation = time.ctime(os.path.getctime(audio_name))\n",
        "date_time_obj = dt.datetime.strptime(creation, \"%a %b %d %H:%M:%S %Y\")\n",
        "date_time_obj = date_time_obj + dt.timedelta(hours=2) # UTC +02:00 (Europe/Madrid)\n",
        "\n",
        "rec_date_time = date_time_obj - dt.timedelta(0,seconds=duracion)\n",
        "rec_date = rec_date_time.date()\n",
        "rec_time = rec_date_time.time()"
      ],
      "execution_count": 0,
      "outputs": []
    },
    {
      "cell_type": "code",
      "metadata": {
        "id": "3kNyKK0krCM8",
        "colab_type": "code",
        "colab": {}
      },
      "source": [
        "# Create the windowing\n",
        "# Pydub works in milliseconds\n",
        "s_vent = 4\n",
        "ventana = 4 * 1000\n",
        "i = 0\n",
        "x = (duracion - s_vent) * 1000\n",
        "fin = math.ceil(x)\n",
        "\n",
        "# Create chunks saving directory\n",
        "os.makedirs(chunk_dir, exist_ok=True)\n",
        "\n",
        "# Audio splitting\n",
        "lista = list(range(i, fin, 2000))\n",
        "for i in lista:\n",
        "  chunk = audio[i:ventana + i]\n",
        "  chunk.export(\"/content/drive/My Drive/ModeloKeras/Test/chunk/{}-{}.wav\".format(audio_name[:-4],int(i/1000)), format=\"wav\")\n",
        "  i += 2000"
      ],
      "execution_count": 0,
      "outputs": []
    },
    {
      "cell_type": "code",
      "metadata": {
        "id": "YfnMQ0Ett8ME",
        "colab_type": "code",
        "outputId": "1d6b1b33-1328-4d8a-aad0-a72520da3b03",
        "colab": {
          "base_uri": "https://localhost:8080/",
          "height": 516
        }
      },
      "source": [
        "# Create the melspectrograms for each audio chunk\n",
        "results = []\n",
        "\n",
        "file_list = os.listdir(chunk_dir)\n",
        "for audio_files in file_list:\n",
        "    n_audio_files = len(audio_files)\n",
        "    directory_path = chunk_dir\n",
        "    data = list(zip([directory_path]*n_audio_files, [audio_files]))\n",
        "        # Create a pool of processes. By default, one is created for each CPU in your machine.\n",
        "    with concurrent.futures.ProcessPoolExecutor() as executor:\n",
        "            # Process the list of files, but split the work across the process pool to use all CPUs!\n",
        "        for out_fn in tqdm(executor.map(compute_and_save_mel_spectogram, data), total=len(data)):\n",
        "                results.append(out_fn)\n",
        "        "
      ],
      "execution_count": 42,
      "outputs": [
        {
          "output_type": "stream",
          "text": [
            "100%|██████████| 1/1 [00:01<00:00,  1.24s/it]\n",
            "100%|██████████| 1/1 [00:01<00:00,  1.29s/it]\n",
            "100%|██████████| 1/1 [00:01<00:00,  1.25s/it]\n",
            "100%|██████████| 1/1 [00:01<00:00,  1.23s/it]\n",
            "100%|██████████| 1/1 [00:01<00:00,  1.26s/it]\n",
            "100%|██████████| 1/1 [00:01<00:00,  1.23s/it]\n",
            "100%|██████████| 1/1 [00:01<00:00,  1.24s/it]\n",
            "100%|██████████| 1/1 [00:01<00:00,  1.27s/it]\n",
            "100%|██████████| 1/1 [00:01<00:00,  1.25s/it]\n",
            "100%|██████████| 1/1 [00:01<00:00,  1.24s/it]\n",
            "100%|██████████| 1/1 [00:01<00:00,  1.27s/it]\n",
            "100%|██████████| 1/1 [00:01<00:00,  1.27s/it]\n",
            "100%|██████████| 1/1 [00:01<00:00,  1.42s/it]\n",
            "100%|██████████| 1/1 [00:01<00:00,  1.28s/it]\n",
            "100%|██████████| 1/1 [00:01<00:00,  1.26s/it]\n",
            "100%|██████████| 1/1 [00:01<00:00,  1.28s/it]\n",
            "100%|██████████| 1/1 [00:01<00:00,  1.26s/it]\n",
            "100%|██████████| 1/1 [00:01<00:00,  1.25s/it]\n",
            "  0%|          | 0/1 [00:00<?, ?it/s]/usr/local/lib/python3.6/dist-packages/sklearn/preprocessing/_data.py:190: UserWarning: Numerical issues were encountered when scaling the data and might not be solved. The standard deviation of the data is probably very close to 0. \n",
            "  warnings.warn(\"Numerical issues were encountered \"\n",
            "100%|██████████| 1/1 [00:01<00:00,  1.26s/it]\n",
            "100%|██████████| 1/1 [00:01<00:00,  1.24s/it]\n",
            "100%|██████████| 1/1 [00:01<00:00,  1.23s/it]\n",
            "100%|██████████| 1/1 [00:01<00:00,  1.26s/it]\n",
            "100%|██████████| 1/1 [00:01<00:00,  1.23s/it]\n",
            "100%|██████████| 1/1 [00:01<00:00,  1.28s/it]\n",
            "100%|██████████| 1/1 [00:01<00:00,  1.25s/it]\n"
          ],
          "name": "stderr"
        }
      ]
    },
    {
      "cell_type": "code",
      "metadata": {
        "colab_type": "code",
        "id": "b-lOhxJ9Bgil",
        "colab": {}
      },
      "source": [
        "# Use the model to predict and classificate\n",
        "y_pred = []\n",
        "file_list = os.listdir(testing_dir)\n",
        "for file_name in file_list:\n",
        "    img_path = testing_dir +  '/' + file_name\n",
        "        \n",
        "    img = image.load_img(img_path, target_size=(224, 224))\n",
        "        \n",
        "    x = image.img_to_array(img)\n",
        "    x = np.expand_dims(x, axis=0)* 1./255\n",
        "        \n",
        "    preds = loaded_model.predict(x)[0]\n",
        "        \n",
        "    y_pred.append(get_top_k_predictions(preds, label_map, k=2)[0:2])\n",
        "\n",
        "df = pd.DataFrame({'File':file_list,'Pred':y_pred})"
      ],
      "execution_count": 0,
      "outputs": []
    },
    {
      "cell_type": "code",
      "metadata": {
        "id": "5V_L3IEDtsUY",
        "colab_type": "code",
        "colab": {}
      },
      "source": [
        "# Clear all the audios and melspectrograms\n",
        "import shutil\n",
        "shutil.rmtree('/content/drive/My Drive/ModeloKeras/Test/chunk/')\n",
        "shutil.rmtree('/content/drive/My Drive/ModeloKeras/Test/melspectrograms/')\n",
        "#os.remove(audio_dir + '/' + audio_name)"
      ],
      "execution_count": 0,
      "outputs": []
    },
    {
      "cell_type": "code",
      "metadata": {
        "id": "bGcRrGbku9GH",
        "colab_type": "code",
        "colab": {}
      },
      "source": [
        "# Create the final vector (it indicates cough detection) and the times vector\n",
        "x = 0\n",
        "lista = list(range(x, len(df['File']), 1))\n",
        "vector = [0] * len(df['File'])\n",
        "times_vector = [0] * len(df['File'])\n",
        "date_vector = [0] * len(df['File'])\n",
        "\n",
        "for x in lista:\n",
        "  if df[\"Pred\"][x][0] == 'Cough' or df[\"Pred\"][x][1] == \"Cough\":\n",
        "    vector[x] = 1\n",
        "  else:\n",
        "    vector[x] = 0\n",
        "  times_vector[x] = str((rec_date_time + dt.timedelta(0,seconds=x*2)).time())\n",
        "  date_vector[x] = str((rec_date_time + dt.timedelta(0,seconds=x*2)).date())"
      ],
      "execution_count": 0,
      "outputs": []
    },
    {
      "cell_type": "code",
      "metadata": {
        "id": "6FaD3542nt8C",
        "colab_type": "code",
        "outputId": "c69446f1-34ea-4487-bb8e-5c8ca5b310ce",
        "colab": {
          "base_uri": "https://localhost:8080/",
          "height": 478
        }
      },
      "source": [
        "df = pd.DataFrame({'File':file_list, 'Date':date_vector, 'Time':times_vector,'Pred':vector})\n",
        "print(df)"
      ],
      "execution_count": 46,
      "outputs": [
        {
          "output_type": "stream",
          "text": [
            "                        File        Date      Time  Pred\n",
            "0    Copia de audio123-0.png  2020-05-08  21:27:06     0\n",
            "1    Copia de audio123-2.png  2020-05-08  21:27:08     0\n",
            "2    Copia de audio123-4.png  2020-05-08  21:27:10     0\n",
            "3    Copia de audio123-6.png  2020-05-08  21:27:12     0\n",
            "4    Copia de audio123-8.png  2020-05-08  21:27:14     0\n",
            "5   Copia de audio123-10.png  2020-05-08  21:27:16     0\n",
            "6   Copia de audio123-12.png  2020-05-08  21:27:18     0\n",
            "7   Copia de audio123-14.png  2020-05-08  21:27:20     0\n",
            "8   Copia de audio123-16.png  2020-05-08  21:27:22     0\n",
            "9   Copia de audio123-18.png  2020-05-08  21:27:24     1\n",
            "10  Copia de audio123-20.png  2020-05-08  21:27:26     1\n",
            "11  Copia de audio123-22.png  2020-05-08  21:27:28     0\n",
            "12  Copia de audio123-24.png  2020-05-08  21:27:30     0\n",
            "13  Copia de audio123-26.png  2020-05-08  21:27:32     1\n",
            "14  Copia de audio123-28.png  2020-05-08  21:27:34     0\n",
            "15  Copia de audio123-30.png  2020-05-08  21:27:36     1\n",
            "16  Copia de audio123-32.png  2020-05-08  21:27:38     0\n",
            "17  Copia de audio123-34.png  2020-05-08  21:27:40     1\n",
            "18  Copia de audio123-36.png  2020-05-08  21:27:42     0\n",
            "19  Copia de audio123-38.png  2020-05-08  21:27:44     0\n",
            "20  Copia de audio123-40.png  2020-05-08  21:27:46     0\n",
            "21  Copia de audio123-42.png  2020-05-08  21:27:48     1\n",
            "22  Copia de audio123-44.png  2020-05-08  21:27:50     1\n",
            "23  Copia de audio123-46.png  2020-05-08  21:27:52     0\n",
            "24  Copia de audio123-48.png  2020-05-08  21:27:54     0\n"
          ],
          "name": "stdout"
        }
      ]
    },
    {
      "cell_type": "code",
      "metadata": {
        "id": "AjE4Dri58vSF",
        "colab_type": "code",
        "outputId": "adc905e9-9261-4a7f-ae05-aa64103ff3c0",
        "colab": {
          "base_uri": "https://localhost:8080/",
          "height": 34
        }
      },
      "source": [
        "df.to_gbq('dp4.audio', project_id='vertical-realm-252209', if_exists='append')"
      ],
      "execution_count": 47,
      "outputs": [
        {
          "output_type": "stream",
          "text": [
            "1it [00:06,  6.55s/it]\n"
          ],
          "name": "stderr"
        }
      ]
    },
    {
      "cell_type": "code",
      "metadata": {
        "id": "RVlorS5K7jht",
        "colab_type": "code",
        "colab": {}
      },
      "source": [
        ""
      ],
      "execution_count": 0,
      "outputs": []
    }
  ]
}